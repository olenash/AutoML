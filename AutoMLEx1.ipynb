{
  "nbformat": 4,
  "nbformat_minor": 0,
  "metadata": {
    "colab": {
      "name": "AutoMLEx1.ipynb",
      "provenance": [],
      "authorship_tag": "ABX9TyNecuHb+g6xsHSk4rLGMK0+",
      "include_colab_link": true
    },
    "kernelspec": {
      "name": "python3",
      "display_name": "Python 3"
    }
  },
  "cells": [
    {
      "cell_type": "markdown",
      "metadata": {
        "id": "view-in-github",
        "colab_type": "text"
      },
      "source": [
        "<a href=\"https://colab.research.google.com/github/olenash/AutoML/blob/master/AutoMLEx1.ipynb\" target=\"_parent\"><img src=\"https://colab.research.google.com/assets/colab-badge.svg\" alt=\"Open In Colab\"/></a>"
      ]
    },
    {
      "cell_type": "code",
      "metadata": {
        "id": "elrDmFd_N3zg",
        "colab_type": "code",
        "colab": {
          "base_uri": "https://localhost:8080/",
          "height": 238
        },
        "outputId": "67a8c9de-06ee-44b0-b93a-cbac008c09ec"
      },
      "source": [
        "!pip install GPy\n",
        "!pip install GPyOpt"
      ],
      "execution_count": 17,
      "outputs": [
        {
          "output_type": "stream",
          "text": [
            "Requirement already satisfied: GPy in /usr/local/lib/python3.6/dist-packages (1.9.9)\n",
            "Requirement already satisfied: six in /usr/local/lib/python3.6/dist-packages (from GPy) (1.12.0)\n",
            "Requirement already satisfied: paramz>=0.9.0 in /usr/local/lib/python3.6/dist-packages (from GPy) (0.9.5)\n",
            "Requirement already satisfied: numpy>=1.7 in /usr/local/lib/python3.6/dist-packages (from GPy) (1.18.5)\n",
            "Requirement already satisfied: scipy>=0.16 in /usr/local/lib/python3.6/dist-packages (from GPy) (1.4.1)\n",
            "Requirement already satisfied: decorator>=4.0.10 in /usr/local/lib/python3.6/dist-packages (from paramz>=0.9.0->GPy) (4.4.2)\n",
            "Requirement already satisfied: GPyOpt in /usr/local/lib/python3.6/dist-packages (1.2.6)\n",
            "Requirement already satisfied: numpy>=1.7 in /usr/local/lib/python3.6/dist-packages (from GPyOpt) (1.18.5)\n",
            "Requirement already satisfied: GPy>=1.8 in /usr/local/lib/python3.6/dist-packages (from GPyOpt) (1.9.9)\n",
            "Requirement already satisfied: scipy>=0.16 in /usr/local/lib/python3.6/dist-packages (from GPyOpt) (1.4.1)\n",
            "Requirement already satisfied: paramz>=0.9.0 in /usr/local/lib/python3.6/dist-packages (from GPy>=1.8->GPyOpt) (0.9.5)\n",
            "Requirement already satisfied: six in /usr/local/lib/python3.6/dist-packages (from GPy>=1.8->GPyOpt) (1.12.0)\n",
            "Requirement already satisfied: decorator>=4.0.10 in /usr/local/lib/python3.6/dist-packages (from paramz>=0.9.0->GPy>=1.8->GPyOpt) (4.4.2)\n"
          ],
          "name": "stdout"
        }
      ]
    },
    {
      "cell_type": "code",
      "metadata": {
        "id": "2F-X-Si9R8pY",
        "colab_type": "code",
        "colab": {}
      },
      "source": [
        "import numpy as np\n",
        "import matplotlib.pyplot as plt\n",
        "from sklearn.datasets import load_diabetes\n",
        "from sklearn.ensemble import RandomForestRegressor"
      ],
      "execution_count": 18,
      "outputs": []
    },
    {
      "cell_type": "code",
      "metadata": {
        "id": "jg0SNK6FSPzf",
        "colab_type": "code",
        "colab": {}
      },
      "source": [
        "#import optimizers\n",
        "from sklearn.model_selection import RandomizedSearchCV, GridSearchCV\n",
        "from scipy.stats import uniform\n",
        "import GPy\n",
        "import GPyOpt\n",
        "from GPyOpt.methods import BayesianOptimization"
      ],
      "execution_count": 19,
      "outputs": []
    },
    {
      "cell_type": "code",
      "metadata": {
        "id": "Eey03LIFSYtf",
        "colab_type": "code",
        "colab": {
          "base_uri": "https://localhost:8080/",
          "height": 51
        },
        "outputId": "1b5bb5e5-033b-487a-bc31-0c77765bd1a0"
      },
      "source": [
        "X, y = load_diabetes(return_X_y=True)\n",
        "print(\"X.shape:\", X.shape)\n",
        "print(\"Y.shape:\", y.shape)"
      ],
      "execution_count": 20,
      "outputs": [
        {
          "output_type": "stream",
          "text": [
            "X.shape: (442, 10)\n",
            "Y.shape: (442,)\n"
          ],
          "name": "stdout"
        }
      ]
    },
    {
      "cell_type": "code",
      "metadata": {
        "id": "IU0yYlPZT9cW",
        "colab_type": "code",
        "colab": {}
      },
      "source": [
        "from sklearn.model_selection import cross_val_score\n",
        "baseline = cross_val_score(RandomForestRegressor(), X,y, scoring='neg_mean_squared_error').mean()"
      ],
      "execution_count": 21,
      "outputs": []
    },
    {
      "cell_type": "code",
      "metadata": {
        "id": "6E-wrmmYUOCj",
        "colab_type": "code",
        "colab": {
          "base_uri": "https://localhost:8080/",
          "height": 34
        },
        "outputId": "04a4c629-6113-4bbc-d235-b1cdbcf18812"
      },
      "source": [
        "baseline"
      ],
      "execution_count": 22,
      "outputs": [
        {
          "output_type": "execute_result",
          "data": {
            "text/plain": [
              "-3373.0296618539323"
            ]
          },
          "metadata": {
            "tags": []
          },
          "execution_count": 22
        }
      ]
    },
    {
      "cell_type": "code",
      "metadata": {
        "id": "e9Zwd_a4Wcwf",
        "colab_type": "code",
        "colab": {}
      },
      "source": [
        "max_features = ['auto', 'sqrt', 'log2']\n",
        "n_estimators = [50,80,100,150,250,500]\n",
        "max_depth = [1,2,3,4,5]"
      ],
      "execution_count": 23,
      "outputs": []
    },
    {
      "cell_type": "code",
      "metadata": {
        "id": "TKQWES5_pCs4",
        "colab_type": "code",
        "colab": {}
      },
      "source": [
        "grid_parametrs = {'max_features':max_features,\n",
        "'n_estimators':n_estimators,\n",
        "'max_depth': max_depth}"
      ],
      "execution_count": 24,
      "outputs": []
    },
    {
      "cell_type": "code",
      "metadata": {
        "id": "l69FJSjVpiM1",
        "colab_type": "code",
        "colab": {}
      },
      "source": [
        "reg = RandomForestRegressor(random_state=1)"
      ],
      "execution_count": 25,
      "outputs": []
    },
    {
      "cell_type": "markdown",
      "metadata": {
        "id": "RHL4mtv1qPpJ",
        "colab_type": "text"
      },
      "source": [
        "Random Search"
      ]
    },
    {
      "cell_type": "code",
      "metadata": {
        "id": "XaQFWZJZpNt4",
        "colab_type": "code",
        "colab": {
          "base_uri": "https://localhost:8080/",
          "height": 34
        },
        "outputId": "7cdf95c3-1495-41d2-a194-ee11f1f50ef8"
      },
      "source": [
        "RandomFR = RandomizedSearchCV(reg,grid_parametrs,scoring='neg_mean_squared_error', n_iter=20)\n",
        "RandomFR.fit(X,y)\n",
        "print(RandomFR.best_params_)"
      ],
      "execution_count": 26,
      "outputs": [
        {
          "output_type": "stream",
          "text": [
            "{'n_estimators': 500, 'max_features': 'log2', 'max_depth': 5}\n"
          ],
          "name": "stdout"
        }
      ]
    },
    {
      "cell_type": "markdown",
      "metadata": {
        "id": "3lxOmppKqanr",
        "colab_type": "text"
      },
      "source": [
        "Grid Search"
      ]
    },
    {
      "cell_type": "code",
      "metadata": {
        "id": "h58a5uxIp9iS",
        "colab_type": "code",
        "colab": {
          "base_uri": "https://localhost:8080/",
          "height": 357
        },
        "outputId": "73ae1d9d-6fd5-4731-d028-81b3fb391e17"
      },
      "source": [
        "GridFR = GridSearchCV(reg,grid_parametrs,scoring='neg_mean_squared_error')\n",
        "GridFR.fit(X,y)"
      ],
      "execution_count": 27,
      "outputs": [
        {
          "output_type": "execute_result",
          "data": {
            "text/plain": [
              "GridSearchCV(cv=None, error_score=nan,\n",
              "             estimator=RandomForestRegressor(bootstrap=True, ccp_alpha=0.0,\n",
              "                                             criterion='mse', max_depth=None,\n",
              "                                             max_features='auto',\n",
              "                                             max_leaf_nodes=None,\n",
              "                                             max_samples=None,\n",
              "                                             min_impurity_decrease=0.0,\n",
              "                                             min_impurity_split=None,\n",
              "                                             min_samples_leaf=1,\n",
              "                                             min_samples_split=2,\n",
              "                                             min_weight_fraction_leaf=0.0,\n",
              "                                             n_estimators=100, n_jobs=None,\n",
              "                                             oob_score=False, random_state=1,\n",
              "                                             verbose=0, warm_start=False),\n",
              "             iid='deprecated', n_jobs=None,\n",
              "             param_grid={'max_depth': [1, 2, 3, 4, 5],\n",
              "                         'max_features': ['auto', 'sqrt', 'log2'],\n",
              "                         'n_estimators': [50, 80, 100, 150, 250, 500]},\n",
              "             pre_dispatch='2*n_jobs', refit=True, return_train_score=False,\n",
              "             scoring='neg_mean_squared_error', verbose=0)"
            ]
          },
          "metadata": {
            "tags": []
          },
          "execution_count": 27
        }
      ]
    },
    {
      "cell_type": "code",
      "metadata": {
        "id": "D4o9c3zurlhg",
        "colab_type": "code",
        "colab": {
          "base_uri": "https://localhost:8080/",
          "height": 34
        },
        "outputId": "25326c65-dae8-460e-c1d6-b9c9bed2153c"
      },
      "source": [
        "print(GridFR.best_params_)"
      ],
      "execution_count": 28,
      "outputs": [
        {
          "output_type": "stream",
          "text": [
            "{'max_depth': 4, 'max_features': 'sqrt', 'n_estimators': 150}\n"
          ],
          "name": "stdout"
        }
      ]
    },
    {
      "cell_type": "markdown",
      "metadata": {
        "id": "UVOCm3BnsIvc",
        "colab_type": "text"
      },
      "source": [
        "Bayesian Optimization\n"
      ]
    },
    {
      "cell_type": "code",
      "metadata": {
        "id": "pMTK8_VSSxF7",
        "colab_type": "code",
        "colab": {}
      },
      "source": [
        "def estimate(param_tensor):\n",
        "    max_features_k, n_estimators,max_depth  = param_tensor[0]\n",
        "    max_features_p = {1:'auto', 2:'sqrt', 3: 'log2'}\n",
        "    max_features = max_features_p[max_features_k]\n",
        "    reg = RandomForestRegressor(max_depth=int(max_depth), n_estimators=int(n_estimators), max_features=max_features)\n",
        "    reg.fit(X,y)\n",
        "    score = cross_val_score(reg, X,y, scoring='neg_mean_squared_error').mean()\n",
        "    score = np.array(score)\n",
        "    return score"
      ],
      "execution_count": 29,
      "outputs": []
    },
    {
      "cell_type": "code",
      "metadata": {
        "id": "3C9ZmemOruZz",
        "colab_type": "code",
        "colab": {}
      },
      "source": [
        "bds = [{'name':'max_features', 'type':'discrete', 'domain':(1,2,3)},\n",
        "       {'name':'n_estimators', 'type':'discrete', 'domain':(50,80,100,150,250,500)},\n",
        "       {'name':'max_depth', 'type':'discrete', 'domain':(1,2,3,4,5)}]\n",
        "\n",
        "optimizer = BayesianOptimization(f=estimate, model_type='GP', acquisition_type='EI', domain=bds, maximize=True)\n",
        "optimizer.run_optimization(max_iter=20)"
      ],
      "execution_count": 30,
      "outputs": []
    },
    {
      "cell_type": "code",
      "metadata": {
        "id": "N5SWzlWEuYta",
        "colab_type": "code",
        "colab": {}
      },
      "source": [
        "optimizer.plot_acquisition()"
      ],
      "execution_count": 31,
      "outputs": []
    },
    {
      "cell_type": "code",
      "metadata": {
        "id": "I_LoNO2Z0WYS",
        "colab_type": "code",
        "colab": {
          "base_uri": "https://localhost:8080/",
          "height": 350
        },
        "outputId": "b6e7137d-fa64-4477-d5c4-5cb56b435319"
      },
      "source": [
        "optimizer.plot_convergence()"
      ],
      "execution_count": 32,
      "outputs": [
        {
          "output_type": "display_data",
          "data": {
            "image/png": "[encoded data removed]",
            "text/plain": [
              "<Figure size 720x360 with 2 Axes>"
            ]
          },
          "metadata": {
            "tags": [],
            "needs_background": "light"
          }
        }
      ]
    },
    {
      "cell_type": "code",
      "metadata": {
        "id": "SOm8tQKk4WBZ",
        "colab_type": "code",
        "colab": {
          "base_uri": "https://localhost:8080/",
          "height": 396
        },
        "outputId": "492f32fe-63d2-4380-c366-e2573c427b4f"
      },
      "source": [
        "y_rs = np.maximum.accumulate(RandomFR.cv_results_['mean_test_score'])\n",
        "y_gs = np.maximum.accumulate(GridFR.cv_results_['mean_test_score'])\n",
        "y_bo = np.maximum.accumulate(-optimizer.Y).ravel()\n",
        "\n",
        "plt.figure(figsize=(6,6))\n",
        "plt.plot(y_rs, 'ro', label='Random Search')\n",
        "plt.plot(y_gs, 'bo', label='Grid Search')\n",
        "plt.plot(y_bo, 'go', label='Bayesian Optimization')\n",
        "plt.xlabel('Iteration')\n",
        "plt.ylabel('Negative MSE')\n",
        "plt.legend(loc='right');"
      ],
      "execution_count": 39,
      "outputs": [
        {
          "output_type": "display_data",
          "data": {
            "image/png": "[encoded data removed]",
            "text/plain": [
              "<Figure size 432x432 with 1 Axes>"
            ]
          },
          "metadata": {
            "tags": [],
            "needs_background": "light"
          }
        }
      ]
    },
    {
      "cell_type": "markdown",
      "metadata": {
        "id": "Yzfv_xfv7DH2",
        "colab_type": "text"
      },
      "source": [
        "We hit the 'optimal' solution with a Bayesian Optimization much faster then with other algorithms and it seems to have showed better Negative MSE."
      ]
    }
  ]
}